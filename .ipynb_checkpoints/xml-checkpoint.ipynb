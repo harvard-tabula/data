{
 "cells": [
  {
   "cell_type": "markdown",
   "metadata": {
    "deletable": true,
    "editable": true
   },
   "source": [
    "We're interested in the instruction types associated with each class as well as the range of enrollment.\n",
    "\n",
    "When loading into DB make sure to check if a given element `is None`\n",
    "\n",
    "Note that departments and concentrations are distinct. There's no need to link them, so concentrations can be stored as a purely UI element. "
   ]
  },
  {
   "cell_type": "code",
   "execution_count": 123,
   "metadata": {
    "collapsed": true,
    "deletable": true,
    "editable": true
   },
   "outputs": [],
   "source": [
    "import pandas as pd\n",
    "import xml.etree.ElementTree as et"
   ]
  },
  {
   "cell_type": "code",
   "execution_count": 103,
   "metadata": {
    "collapsed": true,
    "deletable": true,
    "editable": true
   },
   "outputs": [],
   "source": [
    "concentrations = [  # Copied from https://college.harvard.edu/academics/fields-study/concentrations\n",
    "    'African and African American Studies',\n",
    "    'Anthropology',\n",
    "    'Applied Mathematics',\n",
    "    'Astrophysics',\n",
    "    'Biomedical Engineering',\n",
    "    'Chemical and Physical Biology',\n",
    "    'Chemistry',\n",
    "    'Chemistry and Physics',\n",
    "    'Classics',\n",
    "    'Comparative Literature',\n",
    "    'Computer Science',\n",
    "    'Earth and Planetary Sciences',\n",
    "    'East Asian Studies',\n",
    "    'Economics',\n",
    "    'Electrical Engineering',\n",
    "    'Engineering Sciences',\n",
    "    'English',\n",
    "    'Environmental Science and Public Policy',\n",
    "    'Folklore and Mythology',\n",
    "    'Germanic Languages and Literatures',\n",
    "    'Government',\n",
    "    'History',\n",
    "    'History and Literature',\n",
    "    'History and Science',\n",
    "    'History of Art and Architecture',\n",
    "    'Human Developmental and Regenerative Biology',\n",
    "    'Human Evolutionary Biology',\n",
    "    'Integrative Biology',\n",
    "    'Linguistics',\n",
    "    'Mathematics',\n",
    "    'Mechanical Engineering',\n",
    "    'Molecular and Cellular Biology',\n",
    "    'Music',\n",
    "    'Near Eastern Languages and Civilizations',\n",
    "    'Neurobiology',\n",
    "    'Philosophy',\n",
    "    'Physics',\n",
    "    'Psychology',\n",
    "    'Religion, Comparative Study of',\n",
    "    'Romance Languages and Literatures',\n",
    "    'Slavic Languages and Literatures',\n",
    "    'Social Studies',\n",
    "    'Sociology',\n",
    "    'South Asian Studies',\n",
    "    'Special Concentrations',\n",
    "    'Statistics',\n",
    "    'Theater, Dance, and Media',\n",
    "    'Visual and Environmental Studies',\n",
    "    'Women, Gender, and Sexuality, Studies of',\n",
    "]"
   ]
  },
  {
   "cell_type": "code",
   "execution_count": 104,
   "metadata": {
    "collapsed": false,
    "deletable": true,
    "editable": true
   },
   "outputs": [],
   "source": [
    "custom_map = {\n",
    "    'AESTHINT':'Aesthetic and Interpretive Understanding', \n",
    "    'AMSTDIES':'American Studies', \n",
    "    'BIOLSCI':'Biological Sciences', \n",
    "    'CULTBLF':'Culture and Belief', \n",
    "    'EMREAS':'Empirical and Mathematical Reasoning', \n",
    "    'ETHRSON':'Ethical Reasoning', \n",
    "    'FAS':'Faculty of Arts and Sciences', \n",
    "    'HIND-URD':'South Asian Studies', \n",
    "    'HLS':'Harvard Law School', \n",
    "    'IMMUN':'Medical Sciences', \n",
    "    'MODMDEST':'Near Eastern Languages & Civilizations', \n",
    "    'SCILIVSY':'Science of Living Systems', \n",
    "    'SCIPHUNV':'Science of the Physical Universe', \n",
    "    'SOCWORLD':'Societies of the World', \n",
    "    'US-WORLD': 'United States in the World',\n",
    "    'SYSBIO':'Systems Biology', \n",
    "    'UKRA':'Slavic Languages & Literatures', \n",
    "    'CZCH':'Slavic Languages & Literatures',\n",
    "    'XBRN':'Romance Languages & Literature', \n",
    "    'XBUS':'Cross-Reg HBS', \n",
    "    'XFLT':'South Asian Studies', \n",
    "    'XMIT':'Cross-Reg MIT', \n",
    "    'XLAW': 'Cross-Reg HLS',\n",
    "    'TIME-A': 'Special Course',\n",
    "    'TIME-C': 'Special Course',\n",
    "    'TIME-R': 'Special Course',\n",
    "    'TIME-T': 'Special Course',\n",
    "    'RSEA': 'Regional Studies',\n",
    "    'RSRA': 'Regional Studies',\n",
    "    'SCRB': 'Stem Cell & Regenrative Biology',\n",
    "    'SHBT': 'Medical Sciences',\n",
    "    'BBS': 'Medical Sciences',\n",
    "    'BCMP': 'Medical Sciences',\n",
    "    'BCS': 'Slavic Languages & Literatures',\n",
    "    'BPH': 'Bio Science in Public Health',\n",
    "    'CLS-STDY': 'Classics',\n",
    "    'DRB': 'Medical Sciences',\n",
    "    'HBTM': 'Medical Sciences',\n",
    "    'HSEMR-LE': 'House Seminar',\n",
    "    'HSEMR-WI': 'House Seminar',\n",
    "    'HSEMR-LO': 'House Seminar',\n",
    "    'HSEMR-MA': 'House Seminar',\n",
    "    'HSEMR-PF': 'House Seminar',\n",
    "    'MCB': 'Molecular & Cellular Biology',\n",
    "    'OEB': 'Organismic & Evolutionary Biology',\n",
    "    'SLAVIC': 'Slavic Languages & Literatures',\n",
    "}"
   ]
  },
  {
   "cell_type": "code",
   "execution_count": 105,
   "metadata": {
    "collapsed": false,
    "deletable": true,
    "editable": true
   },
   "outputs": [],
   "source": [
    "def extract_courses(path_to_xml):\n",
    "    \n",
    "    cq = lambda q: '{http://icommons.harvard.edu/Schema}' + q\n",
    "    \n",
    "    semester_xml = et.parse(open(path_to_xml))\n",
    "    root = semester_xml.getroot()\n",
    "    \n",
    "    courses = []\n",
    "\n",
    "    for course in root.findall(cq('course')):\n",
    "        catalog_info = course.find(cq('catalog_info'))\n",
    "\n",
    "        courses.append({\n",
    "            'harvard_id': catalog_info.find(cq('course_code_display')).text,\n",
    "            'name_short': catalog_info.find(cq('short_title')).text,\n",
    "            'name_long': catalog_info.find(cq('sub_title')).text,\n",
    "            'description': catalog_info.find(cq('description')).text,\n",
    "            'prereq': catalog_info.find(cq('prereq')).text,\n",
    "            'notes': catalog_info.find(cq('notes')).text,\n",
    "            'department_short': catalog_info.find(cq('course_group_short_name')).text,\n",
    "            'enrollment': catalog_info.find(cq('enrollment_limit')).text,\n",
    "            'type': catalog_info.find(cq('course_type')).text,\n",
    "        })\n",
    "        \n",
    "    return courses"
   ]
  },
  {
   "cell_type": "code",
   "execution_count": 106,
   "metadata": {
    "collapsed": false,
    "deletable": true,
    "editable": true
   },
   "outputs": [],
   "source": [
    "fall_registrar = extract_courses('fall.xml')"
   ]
  },
  {
   "cell_type": "code",
   "execution_count": 107,
   "metadata": {
    "collapsed": false,
    "deletable": true,
    "editable": true
   },
   "outputs": [],
   "source": [
    "spring_registrar = extract_courses('spring.xml')"
   ]
  },
  {
   "cell_type": "code",
   "execution_count": 108,
   "metadata": {
    "collapsed": false,
    "deletable": true,
    "editable": true
   },
   "outputs": [],
   "source": [
    "courses = pd.concat([pd.DataFrame(fall_registrar), pd.DataFrame(spring_registrar)])"
   ]
  },
  {
   "cell_type": "code",
   "execution_count": 109,
   "metadata": {
    "collapsed": false,
    "deletable": true,
    "editable": true
   },
   "outputs": [],
   "source": [
    "course_db = courses[['department_short', 'description', 'harvard_id', 'name_long', 'name_short', 'prereq']]\n",
    "course_db = course_db.set_index('harvard_id').sort_index().drop_duplicates()"
   ]
  },
  {
   "cell_type": "markdown",
   "metadata": {},
   "source": [
    "Now we need to make sure that we have a human readable department for every course"
   ]
  },
  {
   "cell_type": "code",
   "execution_count": 110,
   "metadata": {
    "collapsed": false,
    "deletable": true,
    "editable": true
   },
   "outputs": [],
   "source": [
    "# Pulls mappings from catalog number to department from old Q data\n",
    "catalog_number_to_name = {}\n",
    "dpts = pd.read_csv(open('departments.csv', encoding='latin'))\n",
    "mappings = dpts.groupby(['course_group_code', 'course_group']).groups\n",
    "for cat_num, name in mappings:\n",
    "    catalog_number_to_name[cat_num] = name\n",
    "\n",
    "# Combines old Q data with the custom_map defined at the beginning of the note book. So much manual sadness.  \n",
    "to_map = sorted(course_db['department_short'].unique())\n",
    "departments = []\n",
    "for catalog_number in to_map:\n",
    "    assert(catalog_number in custom_map or catalog_number in catalog_number_to_name)\n",
    "    if catalog_number in custom_map:\n",
    "        departments.append({'catalog_number': catalog_number, 'name': custom_map[catalog_number]})\n",
    "    else:\n",
    "        departments.append({'catalog_number': catalog_number, 'name': catalog_number_to_name[catalog_number]})"
   ]
  },
  {
   "cell_type": "code",
   "execution_count": 111,
   "metadata": {
    "collapsed": false,
    "deletable": true,
    "editable": true
   },
   "outputs": [],
   "source": [
    "concentration_db = pd.DataFrame({'concentration': concentration} for concentration in concentrations)\n",
    "department_db = pd.DataFrame(departments)"
   ]
  },
  {
   "cell_type": "code",
   "execution_count": 112,
   "metadata": {
    "collapsed": false
   },
   "outputs": [
    {
     "data": {
      "text/html": [
       "<div>\n",
       "<table border=\"1\" class=\"dataframe\">\n",
       "  <thead>\n",
       "    <tr style=\"text-align: right;\">\n",
       "      <th></th>\n",
       "      <th>catalog_number</th>\n",
       "      <th>name</th>\n",
       "    </tr>\n",
       "  </thead>\n",
       "  <tbody>\n",
       "    <tr>\n",
       "      <th>0</th>\n",
       "      <td>AESTHINT</td>\n",
       "      <td>Aesthetic and Interpretive Understanding</td>\n",
       "    </tr>\n",
       "    <tr>\n",
       "      <th>1</th>\n",
       "      <td>AFRAMER</td>\n",
       "      <td>African and African American Studies</td>\n",
       "    </tr>\n",
       "    <tr>\n",
       "      <th>2</th>\n",
       "      <td>AKKAD</td>\n",
       "      <td>Akkadian</td>\n",
       "    </tr>\n",
       "    <tr>\n",
       "      <th>3</th>\n",
       "      <td>AMSTDIES</td>\n",
       "      <td>American Studies</td>\n",
       "    </tr>\n",
       "    <tr>\n",
       "      <th>4</th>\n",
       "      <td>ANE</td>\n",
       "      <td>Ancient Near East</td>\n",
       "    </tr>\n",
       "  </tbody>\n",
       "</table>\n",
       "</div>"
      ],
      "text/plain": [
       "  catalog_number                                      name\n",
       "0       AESTHINT  Aesthetic and Interpretive Understanding\n",
       "1        AFRAMER      African and African American Studies\n",
       "2          AKKAD                                  Akkadian\n",
       "3       AMSTDIES                          American Studies\n",
       "4            ANE                         Ancient Near East"
      ]
     },
     "execution_count": 112,
     "metadata": {},
     "output_type": "execute_result"
    }
   ],
   "source": [
    "department_db.head()"
   ]
  },
  {
   "cell_type": "code",
   "execution_count": 113,
   "metadata": {
    "collapsed": false
   },
   "outputs": [
    {
     "data": {
      "text/html": [
       "<div>\n",
       "<table border=\"1\" class=\"dataframe\">\n",
       "  <thead>\n",
       "    <tr style=\"text-align: right;\">\n",
       "      <th></th>\n",
       "      <th>concentration</th>\n",
       "    </tr>\n",
       "  </thead>\n",
       "  <tbody>\n",
       "    <tr>\n",
       "      <th>0</th>\n",
       "      <td>African and African American Studies</td>\n",
       "    </tr>\n",
       "    <tr>\n",
       "      <th>1</th>\n",
       "      <td>Anthropology</td>\n",
       "    </tr>\n",
       "    <tr>\n",
       "      <th>2</th>\n",
       "      <td>Applied Mathematics</td>\n",
       "    </tr>\n",
       "    <tr>\n",
       "      <th>3</th>\n",
       "      <td>Astrophysics</td>\n",
       "    </tr>\n",
       "    <tr>\n",
       "      <th>4</th>\n",
       "      <td>Biomedical Engineering</td>\n",
       "    </tr>\n",
       "  </tbody>\n",
       "</table>\n",
       "</div>"
      ],
      "text/plain": [
       "                          concentration\n",
       "0  African and African American Studies\n",
       "1                          Anthropology\n",
       "2                   Applied Mathematics\n",
       "3                          Astrophysics\n",
       "4                Biomedical Engineering"
      ]
     },
     "execution_count": 113,
     "metadata": {},
     "output_type": "execute_result"
    }
   ],
   "source": [
    "concentration_db.head()"
   ]
  },
  {
   "cell_type": "code",
   "execution_count": 114,
   "metadata": {
    "collapsed": false
   },
   "outputs": [
    {
     "data": {
      "text/html": [
       "<div>\n",
       "<table border=\"1\" class=\"dataframe\">\n",
       "  <thead>\n",
       "    <tr style=\"text-align: right;\">\n",
       "      <th></th>\n",
       "      <th>department_short</th>\n",
       "      <th>description</th>\n",
       "      <th>name_long</th>\n",
       "      <th>name_short</th>\n",
       "      <th>prereq</th>\n",
       "    </tr>\n",
       "    <tr>\n",
       "      <th>harvard_id</th>\n",
       "      <th></th>\n",
       "      <th></th>\n",
       "      <th></th>\n",
       "      <th></th>\n",
       "      <th></th>\n",
       "    </tr>\n",
       "  </thead>\n",
       "  <tbody>\n",
       "    <tr>\n",
       "      <th>107340</th>\n",
       "      <td>FRSEMR</td>\n",
       "      <td>John Steinbeck wrote: &amp;quot;It is a common exp...</td>\n",
       "      <td>Dreams: Our Mind by Night</td>\n",
       "      <td>FRSEMR 26F</td>\n",
       "      <td>Course open to Freshman Students Only</td>\n",
       "    </tr>\n",
       "    <tr>\n",
       "      <th>107341</th>\n",
       "      <td>US-WORLD</td>\n",
       "      <td>Events such as Teach for America's 20th annive...</td>\n",
       "      <td>Dilemmas of Equity and Excellence in American ...</td>\n",
       "      <td>US-WORLD 35</td>\n",
       "      <td>None</td>\n",
       "    </tr>\n",
       "    <tr>\n",
       "      <th>107349</th>\n",
       "      <td>MODMDEST</td>\n",
       "      <td>An introduction to Middle Eastern Studies focu...</td>\n",
       "      <td>Introduction to the Modern Middle East</td>\n",
       "      <td>MODMDEST 100</td>\n",
       "      <td>None</td>\n",
       "    </tr>\n",
       "    <tr>\n",
       "      <th>107367</th>\n",
       "      <td>PHYSCI</td>\n",
       "      <td>An introduction to the fundamental theories of...</td>\n",
       "      <td>Quantum and Statistical Foundations of Chemistry</td>\n",
       "      <td>PHYSCI 10</td>\n",
       "      <td>Recommended: A strong background in chemistry ...</td>\n",
       "    </tr>\n",
       "    <tr>\n",
       "      <th>107368</th>\n",
       "      <td>PHYSCI</td>\n",
       "      <td>The Physical Sciences hold the key to solving ...</td>\n",
       "      <td>Foundations and Frontiers of Modern Chemistry:...</td>\n",
       "      <td>PHYSCI 11</td>\n",
       "      <td>Recommended: A strong background in chemistry....</td>\n",
       "    </tr>\n",
       "  </tbody>\n",
       "</table>\n",
       "</div>"
      ],
      "text/plain": [
       "           department_short  \\\n",
       "harvard_id                    \n",
       "107340               FRSEMR   \n",
       "107341             US-WORLD   \n",
       "107349             MODMDEST   \n",
       "107367               PHYSCI   \n",
       "107368               PHYSCI   \n",
       "\n",
       "                                                  description  \\\n",
       "harvard_id                                                      \n",
       "107340      John Steinbeck wrote: &quot;It is a common exp...   \n",
       "107341      Events such as Teach for America's 20th annive...   \n",
       "107349      An introduction to Middle Eastern Studies focu...   \n",
       "107367      An introduction to the fundamental theories of...   \n",
       "107368      The Physical Sciences hold the key to solving ...   \n",
       "\n",
       "                                                    name_long    name_short  \\\n",
       "harvard_id                                                                    \n",
       "107340                              Dreams: Our Mind by Night    FRSEMR 26F   \n",
       "107341      Dilemmas of Equity and Excellence in American ...   US-WORLD 35   \n",
       "107349                 Introduction to the Modern Middle East  MODMDEST 100   \n",
       "107367       Quantum and Statistical Foundations of Chemistry     PHYSCI 10   \n",
       "107368      Foundations and Frontiers of Modern Chemistry:...     PHYSCI 11   \n",
       "\n",
       "                                                       prereq  \n",
       "harvard_id                                                     \n",
       "107340                  Course open to Freshman Students Only  \n",
       "107341                                                   None  \n",
       "107349                                                   None  \n",
       "107367      Recommended: A strong background in chemistry ...  \n",
       "107368      Recommended: A strong background in chemistry....  "
      ]
     },
     "execution_count": 114,
     "metadata": {},
     "output_type": "execute_result"
    }
   ],
   "source": [
    "course_db.head()"
   ]
  },
  {
   "cell_type": "markdown",
   "metadata": {},
   "source": [
    "Now all we need to do is replace the `department_short` column with a `department_id` column."
   ]
  },
  {
   "cell_type": "code",
   "execution_count": 121,
   "metadata": {
    "collapsed": false
   },
   "outputs": [],
   "source": [
    "final_cat_to_name_mapping = {key: ix[0] for key, ix in department_db.groupby('catalog_number').groups.items()}\n",
    "final_course_db = course_db.replace(to_replace={'department_short':final_cat_to_name_mapping})\n",
    "final_course_db.columns = ['department_id', 'description', 'name_long', 'name_short', 'prereq']\n",
    "final_course_db.reset_index(inplace=True)"
   ]
  },
  {
   "cell_type": "code",
   "execution_count": 122,
   "metadata": {
    "collapsed": false
   },
   "outputs": [
    {
     "data": {
      "text/html": [
       "<div>\n",
       "<table border=\"1\" class=\"dataframe\">\n",
       "  <thead>\n",
       "    <tr style=\"text-align: right;\">\n",
       "      <th></th>\n",
       "      <th>harvard_id</th>\n",
       "      <th>department_id</th>\n",
       "      <th>description</th>\n",
       "      <th>name_long</th>\n",
       "      <th>name_short</th>\n",
       "      <th>prereq</th>\n",
       "    </tr>\n",
       "  </thead>\n",
       "  <tbody>\n",
       "    <tr>\n",
       "      <th>0</th>\n",
       "      <td>107340</td>\n",
       "      <td>57</td>\n",
       "      <td>John Steinbeck wrote: &amp;quot;It is a common exp...</td>\n",
       "      <td>Dreams: Our Mind by Night</td>\n",
       "      <td>FRSEMR 26F</td>\n",
       "      <td>Course open to Freshman Students Only</td>\n",
       "    </tr>\n",
       "    <tr>\n",
       "      <th>1</th>\n",
       "      <td>107341</td>\n",
       "      <td>161</td>\n",
       "      <td>Events such as Teach for America's 20th annive...</td>\n",
       "      <td>Dilemmas of Equity and Excellence in American ...</td>\n",
       "      <td>US-WORLD 35</td>\n",
       "      <td>None</td>\n",
       "    </tr>\n",
       "    <tr>\n",
       "      <th>2</th>\n",
       "      <td>107349</td>\n",
       "      <td>107</td>\n",
       "      <td>An introduction to Middle Eastern Studies focu...</td>\n",
       "      <td>Introduction to the Modern Middle East</td>\n",
       "      <td>MODMDEST 100</td>\n",
       "      <td>None</td>\n",
       "    </tr>\n",
       "    <tr>\n",
       "      <th>3</th>\n",
       "      <td>107367</td>\n",
       "      <td>118</td>\n",
       "      <td>An introduction to the fundamental theories of...</td>\n",
       "      <td>Quantum and Statistical Foundations of Chemistry</td>\n",
       "      <td>PHYSCI 10</td>\n",
       "      <td>Recommended: A strong background in chemistry ...</td>\n",
       "    </tr>\n",
       "    <tr>\n",
       "      <th>4</th>\n",
       "      <td>107368</td>\n",
       "      <td>118</td>\n",
       "      <td>The Physical Sciences hold the key to solving ...</td>\n",
       "      <td>Foundations and Frontiers of Modern Chemistry:...</td>\n",
       "      <td>PHYSCI 11</td>\n",
       "      <td>Recommended: A strong background in chemistry....</td>\n",
       "    </tr>\n",
       "  </tbody>\n",
       "</table>\n",
       "</div>"
      ],
      "text/plain": [
       "  harvard_id  department_id  \\\n",
       "0     107340             57   \n",
       "1     107341            161   \n",
       "2     107349            107   \n",
       "3     107367            118   \n",
       "4     107368            118   \n",
       "\n",
       "                                         description  \\\n",
       "0  John Steinbeck wrote: &quot;It is a common exp...   \n",
       "1  Events such as Teach for America's 20th annive...   \n",
       "2  An introduction to Middle Eastern Studies focu...   \n",
       "3  An introduction to the fundamental theories of...   \n",
       "4  The Physical Sciences hold the key to solving ...   \n",
       "\n",
       "                                           name_long    name_short  \\\n",
       "0                          Dreams: Our Mind by Night    FRSEMR 26F   \n",
       "1  Dilemmas of Equity and Excellence in American ...   US-WORLD 35   \n",
       "2             Introduction to the Modern Middle East  MODMDEST 100   \n",
       "3   Quantum and Statistical Foundations of Chemistry     PHYSCI 10   \n",
       "4  Foundations and Frontiers of Modern Chemistry:...     PHYSCI 11   \n",
       "\n",
       "                                              prereq  \n",
       "0              Course open to Freshman Students Only  \n",
       "1                                               None  \n",
       "2                                               None  \n",
       "3  Recommended: A strong background in chemistry ...  \n",
       "4  Recommended: A strong background in chemistry....  "
      ]
     },
     "execution_count": 122,
     "metadata": {},
     "output_type": "execute_result"
    }
   ],
   "source": [
    "final_course_db.head()"
   ]
  }
 ],
 "metadata": {
  "kernelspec": {
   "display_name": "Python 3",
   "language": "python",
   "name": "python3"
  },
  "language_info": {
   "codemirror_mode": {
    "name": "ipython",
    "version": 3
   },
   "file_extension": ".py",
   "mimetype": "text/x-python",
   "name": "python",
   "nbconvert_exporter": "python",
   "pygments_lexer": "ipython3",
   "version": "3.5.1"
  }
 },
 "nbformat": 4,
 "nbformat_minor": 2
}
